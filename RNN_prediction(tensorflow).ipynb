{
 "cells": [
  {
   "cell_type": "code",
   "execution_count": 1,
   "metadata": {},
   "outputs": [],
   "source": [
    "import pandas as pd\n",
    "import numpy as np\n",
    "from matplotlib import pyplot as plt\n",
    "from sklearn.preprocessing import MinMaxScaler, StandardScaler\n",
    "from sklearn.metrics import mean_squared_error, r2_score, mean_absolute_error,median_absolute_error, mean_squared_log_error\n",
    "from tensorflow.keras.preprocessing import sequence\n",
    "from tensorflow.keras.preprocessing.sequence import TimeseriesGenerator\n",
    "from tensorflow.keras.models import Sequential\n",
    "from tensorflow.keras.layers import Dense ,Dropout, Embedding, LSTM, Bidirectional,GRU\n",
    "import tensorflow as tf\n",
    "import warnings\n",
    "warnings.filterwarnings('ignore')"
   ]
  },
  {
   "cell_type": "code",
   "execution_count": 3,
   "metadata": {},
   "outputs": [],
   "source": [
    "def Scale (y_train,y_test):  \n",
    "    train=y_train.to_frame()\n",
    "    test= y_test.to_frame()\n",
    "    scalerr = MinMaxScaler(feature_range=(0, 1))\n",
    "    scaler = scalerr.fit(train)\n",
    "    y_trainS =scaler.transform(train)\n",
    "    y_testS = scaler.transform(test)\n",
    "    return(y_trainS,y_testS,scaler)\n",
    "\n",
    "def Create_Dataset (X, look_back):\n",
    "    #create windows to observe the time series data\n",
    "    Xs, ys = [], []\n",
    "    \n",
    "    for i in range(len(X)-look_back):\n",
    "        v = X[i:i+look_back]\n",
    "        Xs.append(v)\n",
    "        ys.append(X[i+look_back])\n",
    "        \n",
    "    return np.array(Xs), np.array(ys)"
   ]
  },
  {
   "cell_type": "code",
   "execution_count": 7,
   "metadata": {},
   "outputs": [],
   "source": [
    "data = pd.read_csv('dataset\\AirPassengers.csv', usecols=[1], engine='python')\n",
    "data = data.astype('float32')"
   ]
  },
  {
   "cell_type": "code",
   "execution_count": 29,
   "metadata": {},
   "outputs": [],
   "source": [
    "# normalize the dataset\n",
    "scaler = MinMaxScaler(feature_range=(0, 1))\n",
    "scaler_fit = scaler.fit(data)\n",
    "df_norm = scaler.fit_transform(data)\n",
    "# split into train and test sets\n",
    "train_size = int(len(df_norm) * 0.8)\n",
    "test_size = len(df_norm) - train_size\n",
    "train, test = df_norm[0:train_size,:], df_norm[train_size:len(df_norm),:]"
   ]
  },
  {
   "cell_type": "markdown",
   "metadata": {},
   "source": [
    "Since LSTM, GRU, and BiLSTM algorithms require a 3D input shape (Batch-size, Time_steps (look back), input_dim (n_features)), we need a helper function, create_dataset, to reshape the input.\n",
    "\n",
    "n_features is **1** in case of univariant time series data\n",
    "\n",
    "“In this project, we define look_back = 12. This indicates that the model makes predictions based on data from the last 12 months. During the creation of training examples in the create_dataset function, the input for each iteration includes data from the first 12 months, and the corresponding output is the value for the 12th month."
   ]
  },
  {
   "cell_type": "code",
   "execution_count": 24,
   "metadata": {},
   "outputs": [],
   "source": [
    "look_back =12\n",
    "x_train, y_train =Create_Dataset (train, look_back)\n",
    "x_test, y_test = Create_Dataset (test, look_back)"
   ]
  },
  {
   "cell_type": "code",
   "execution_count": 25,
   "metadata": {},
   "outputs": [
    {
     "name": "stdout",
     "output_type": "stream",
     "text": [
      "(115, 1)\n",
      "(103, 12, 1)\n",
      "(103, 1)\n",
      "(29, 1)\n",
      "(17, 12, 1)\n",
      "(17, 1)\n"
     ]
    }
   ],
   "source": [
    "print(train.shape)\n",
    "print(x_train.shape)\n",
    "print(y_train.shape)\n",
    "print(test.shape)\n",
    "print(x_test.shape)\n",
    "print(y_test.shape)"
   ]
  },
  {
   "cell_type": "markdown",
   "metadata": {},
   "source": [
    "choosing the number of hidden layers:\n",
    "\n",
    "- Well if the data is linearly separable then you don’t need any hidden layers at all.\n",
    "- If data is less complex and is having fewer dimensions or features then neural networks with 1 to 2 hidden layers would work.\n",
    "- If data is having large dimensions or features then to get an optimum solution, 3 to 5 hidden layers can be used.\n",
    "\n",
    "The final layer distribution (LSTM/GRU/BILSTM) consists of: two LSTM layers and one output layer with a single unit (only one characteristic is expected, i.e. the amount of revenue expected, so the output layer will have only one unit)(Dense(1))."
   ]
  },
  {
   "cell_type": "code",
   "execution_count": 59,
   "metadata": {},
   "outputs": [],
   "source": [
    "def Train_LSTM(X_trainn,y_trainn,units,batch_size,epochs):\n",
    "    #==Define model architecture\n",
    "    model = Sequential()\n",
    "    #===== Add LSTM layers\n",
    "    model.add(LSTM(units = units, return_sequences=True,activation='relu',\n",
    "                   input_shape=(X_trainn.shape[1], X_trainn.shape[2])))\n",
    "    #===== Hidden layer\n",
    "    model.add(LSTM(units = units, return_sequences=True))\n",
    "    model.add(LSTM(units = units, return_sequences=True))\n",
    "    #=== output layer\n",
    "    model.add(Dense(units = 1))\n",
    "    #==== Compiling the model\n",
    "    model.compile(optimizer='adam', loss='mape') \n",
    "    #====== Fit Model\n",
    "    early_stop = tf.keras.callbacks.EarlyStopping(monitor = 'val_loss',patience = 10)\n",
    "    history = model.fit(X_trainn, y_trainn, epochs = epochs, validation_split = 0.2,\n",
    "                        batch_size = batch_size, shuffle = False, callbacks = [early_stop],verbose=0)\n",
    "    \n",
    "    modelN='LSTM'\n",
    "    return(history,modelN,model)\n",
    "\n",
    "def Train_BiLSTM(X_trainn,y_trainn,units,batch_size,epochs):\n",
    "    #==Define model architecture    \n",
    "    model = Sequential()\n",
    "    #===== Add LSTM layers\n",
    "    model.add(Bidirectional(LSTM(units = units, return_sequences=True,activation='relu',\n",
    "                            input_shape=(X_trainn.shape[1], X_trainn.shape[2]))))\n",
    "    #===== Hidden layer\n",
    "    model.add(Bidirectional(LSTM(units = units,return_sequences=True)))\n",
    "    model.add(Bidirectional(LSTM(units = units,return_sequences=True)))\n",
    "    #=== output layer\n",
    "    model.add(Dense(1))\n",
    "    #==== Compiling the model\n",
    "    model.compile(optimizer='adam', loss='mape') \n",
    "    #====== Fit Model\n",
    "    early_stop = tf.keras.callbacks.EarlyStopping(monitor = 'val_loss',patience = 10)\n",
    "    history = model.fit(X_trainn, y_trainn, epochs = epochs, validation_split = 0.2,\n",
    "                        batch_size = batch_size, shuffle = False, callbacks = [early_stop],verbose=0)\n",
    "    \n",
    "    modelN='BiLSTM'\n",
    "    return(history,modelN,model)\n",
    "\n",
    "def Train_GRU(X_trainn,y_trainn,units,batch_size,epochs):\n",
    "    #==Define model architecture \n",
    "    model = Sequential()\n",
    "    #===== Add LSTM layers\n",
    "    model.add(GRU (units = units, return_sequences = True,activation='relu',\n",
    "                   input_shape = [X_trainn.shape[1], X_trainn.shape[2]]))\n",
    "    #model.add(Dropout(0.2)) \n",
    "    #===== Hidden layer\n",
    "    model.add(GRU(units = units,return_sequences = True))  \n",
    "    model.add(GRU(units = units,return_sequences = True)) \n",
    "    model.add(Dropout(0.3))\n",
    "    #=== output layer\n",
    "    model.add(Dense(units = 1)) \n",
    "    #==== Compiling the model\n",
    "    model.compile(optimizer='adam', loss='mape') \n",
    "    #====== Fit Model\n",
    "    early_stop = tf.keras.callbacks.EarlyStopping(monitor = 'val_loss',patience = 10)\n",
    "    history = model.fit(X_trainn, y_trainn, epochs = epochs, validation_split = 0.2,batch_size = batch_size,\n",
    "                        shuffle = False, callbacks = [early_stop],verbose=0)\n",
    "    \n",
    "    modelN='GRU'\n",
    "    return(history,modelN,model)\n",
    "\n",
    "def make_pred_LSTM(model,scaled_train_data,scaled_test_data,n_input,n_features,scalerfit):\n",
    "    \n",
    "    #=========== Predict train =============#\n",
    "    lstm_predictions_scaledt = list()\n",
    "    batcht = scaled_train_data[:n_input]\n",
    "    current_batcht = batcht.reshape((1, n_input, n_features))\n",
    "    for i in range(len(scaled_train_data)):   \n",
    "        lstm_predt = model.predict(current_batcht)[0]\n",
    "        lstm_predictions_scaledt.append(lstm_predt) \n",
    "        current_batcht = np.append(current_batcht[:,1:,:],[lstm_predt],axis=1)\n",
    "    lstm_predict_train = abs(scalerfit.inverse_transform(lstm_predictions_scaledt))\n",
    "    \n",
    "    #============ Predict test ==============#\n",
    "    lstm_predictions_scaled = list()\n",
    "    batch = scaled_train_data[-n_input:]\n",
    "    #current_batch = batch.reshape((1, n_input, n_features))\n",
    "    current_batch = batch\n",
    "    for i in range(len(scaled_test_data)):   \n",
    "        lstm_pred = model.predict(current_batch)[0]\n",
    "        lstm_predictions_scaled.append(lstm_pred) \n",
    "        current_batch = np.append(current_batch[:,1:,:],[lstm_pred],axis=1)\n",
    "    lstm_predict_test = abs(scalerfit.inverse_transform(lstm_predictions_scaled))\n",
    "    \n",
    "    return (abs(lstm_predict_train),abs(lstm_predict_test))\n",
    "\n",
    "def make_Forecast_LSTM(model,scaled_test_data,n_input,n_features,scalerfit,nbr_month):\n",
    "    lstm_predictions_scaled = list()\n",
    "    batch = scaled_test_data[-n_input:]\n",
    "    print(batch.shape)\n",
    "    #current_batch = batch.reshape((1, n_input, n_features))\n",
    "    current_batch = batch\n",
    "    for i in range(nbr_month+1):   \n",
    "        lstm_pred = model.predict(current_batch)[0]\n",
    "        lstm_predictions_scaled.append(lstm_pred) \n",
    "        current_batch = np.append(current_batch[:,1:,:],[lstm_pred],axis=1)\n",
    "    lstm_forcast = scalerfit.inverse_transform(lstm_predictions_scaled)\n",
    "    return (abs(lstm_forcast))"
   ]
  },
  {
   "cell_type": "code",
   "execution_count": 34,
   "metadata": {},
   "outputs": [],
   "source": [
    "history, name, model = Train_BiLSTM(x_train, y_train, 100, 16, 10)"
   ]
  },
  {
   "cell_type": "code",
   "execution_count": 41,
   "metadata": {},
   "outputs": [
    {
     "name": "stdout",
     "output_type": "stream",
     "text": [
      "\u001b[1m4/4\u001b[0m \u001b[32m━━━━━━━━━━━━━━━━━━━━\u001b[0m\u001b[37m\u001b[0m \u001b[1m5s\u001b[0m 736ms/step\n",
      "\u001b[1m1/1\u001b[0m \u001b[32m━━━━━━━━━━━━━━━━━━━━\u001b[0m\u001b[37m\u001b[0m \u001b[1m0s\u001b[0m 43ms/step\n"
     ]
    }
   ],
   "source": [
    "predict_train = model.predict(x_train)\n",
    "predict_test = model.predict(x_test)"
   ]
  },
  {
   "cell_type": "code",
   "execution_count": 46,
   "metadata": {},
   "outputs": [],
   "source": [
    "trainPredict = scaler.inverse_transform(predict_train.reshape(-1, 1))\n",
    "trainY = scaler.inverse_transform(y_train.reshape(-1, 1))\n",
    "testPredict = scaler.inverse_transform(predict_test.reshape(-1, 1))\n",
    "testY = scaler.inverse_transform(y_test.reshape(-1, 1))"
   ]
  },
  {
   "cell_type": "code",
   "execution_count": 50,
   "metadata": {},
   "outputs": [
    {
     "name": "stdout",
     "output_type": "stream",
     "text": [
      "Train Score: 13.30 RMSE\n",
      "Test Score: 202.91 RMSE\n"
     ]
    }
   ],
   "source": [
    "trainScore = np.sqrt(mean_squared_error(trainY[0], trainPredict[0]))\n",
    "print('Train Score: %.2f RMSE' % (trainScore))\n",
    "testScore = np.sqrt(mean_squared_error(testY[0], testPredict[0]))\n",
    "print('Test Score: %.2f RMSE' % (testScore))"
   ]
  },
  {
   "cell_type": "code",
   "execution_count": 60,
   "metadata": {},
   "outputs": [
    {
     "name": "stdout",
     "output_type": "stream",
     "text": [
      "(12, 12, 1)\n",
      "\u001b[1m1/1\u001b[0m \u001b[32m━━━━━━━━━━━━━━━━━━━━\u001b[0m\u001b[37m\u001b[0m \u001b[1m0s\u001b[0m 121ms/step\n"
     ]
    },
    {
     "ename": "ValueError",
     "evalue": "all the input array dimensions except for the concatenation axis must match exactly, but along dimension 0, the array at index 0 has size 12 and the array at index 1 has size 1",
     "output_type": "error",
     "traceback": [
      "\u001b[1;31m---------------------------------------------------------------------------\u001b[0m",
      "\u001b[1;31mValueError\u001b[0m                                Traceback (most recent call last)",
      "Cell \u001b[1;32mIn[60], line 1\u001b[0m\n\u001b[1;32m----> 1\u001b[0m forecast \u001b[38;5;241m=\u001b[39m\u001b[43mmake_Forecast_LSTM\u001b[49m\u001b[43m(\u001b[49m\u001b[43mmodel\u001b[49m\u001b[43m,\u001b[49m\u001b[43m \u001b[49m\u001b[43mx_test\u001b[49m\u001b[43m,\u001b[49m\u001b[43m \u001b[49m\u001b[43mx_test\u001b[49m\u001b[38;5;241;43m.\u001b[39;49m\u001b[43mshape\u001b[49m\u001b[43m[\u001b[49m\u001b[38;5;241;43m1\u001b[39;49m\u001b[43m]\u001b[49m\u001b[43m,\u001b[49m\u001b[43m \u001b[49m\u001b[43mx_test\u001b[49m\u001b[38;5;241;43m.\u001b[39;49m\u001b[43mshape\u001b[49m\u001b[43m[\u001b[49m\u001b[38;5;241;43m2\u001b[39;49m\u001b[43m]\u001b[49m\u001b[43m,\u001b[49m\u001b[43m \u001b[49m\u001b[43mscaler_fit\u001b[49m\u001b[43m,\u001b[49m\u001b[43m \u001b[49m\u001b[38;5;241;43m12\u001b[39;49m\u001b[43m)\u001b[49m\n",
      "Cell \u001b[1;32mIn[59], line 100\u001b[0m, in \u001b[0;36mmake_Forecast_LSTM\u001b[1;34m(model, scaled_test_data, n_input, n_features, scalerfit, nbr_month)\u001b[0m\n\u001b[0;32m     98\u001b[0m     lstm_pred \u001b[38;5;241m=\u001b[39m model\u001b[38;5;241m.\u001b[39mpredict(current_batch)[\u001b[38;5;241m0\u001b[39m]\n\u001b[0;32m     99\u001b[0m     lstm_predictions_scaled\u001b[38;5;241m.\u001b[39mappend(lstm_pred) \n\u001b[1;32m--> 100\u001b[0m     current_batch \u001b[38;5;241m=\u001b[39m \u001b[43mnp\u001b[49m\u001b[38;5;241;43m.\u001b[39;49m\u001b[43mappend\u001b[49m\u001b[43m(\u001b[49m\u001b[43mcurrent_batch\u001b[49m\u001b[43m[\u001b[49m\u001b[43m:\u001b[49m\u001b[43m,\u001b[49m\u001b[38;5;241;43m1\u001b[39;49m\u001b[43m:\u001b[49m\u001b[43m,\u001b[49m\u001b[43m:\u001b[49m\u001b[43m]\u001b[49m\u001b[43m,\u001b[49m\u001b[43m[\u001b[49m\u001b[43mlstm_pred\u001b[49m\u001b[43m]\u001b[49m\u001b[43m,\u001b[49m\u001b[43maxis\u001b[49m\u001b[38;5;241;43m=\u001b[39;49m\u001b[38;5;241;43m1\u001b[39;49m\u001b[43m)\u001b[49m\n\u001b[0;32m    101\u001b[0m lstm_forcast \u001b[38;5;241m=\u001b[39m scalerfit\u001b[38;5;241m.\u001b[39minverse_transform(lstm_predictions_scaled)\n\u001b[0;32m    102\u001b[0m \u001b[38;5;28;01mreturn\u001b[39;00m (\u001b[38;5;28mabs\u001b[39m(lstm_forcast))\n",
      "File \u001b[1;32mc:\\Users\\fa028\\GitHub\\Time-Series\\venv\\Lib\\site-packages\\numpy\\lib\\function_base.py:5617\u001b[0m, in \u001b[0;36mappend\u001b[1;34m(arr, values, axis)\u001b[0m\n\u001b[0;32m   5615\u001b[0m     values \u001b[38;5;241m=\u001b[39m ravel(values)\n\u001b[0;32m   5616\u001b[0m     axis \u001b[38;5;241m=\u001b[39m arr\u001b[38;5;241m.\u001b[39mndim\u001b[38;5;241m-\u001b[39m\u001b[38;5;241m1\u001b[39m\n\u001b[1;32m-> 5617\u001b[0m \u001b[38;5;28;01mreturn\u001b[39;00m \u001b[43mconcatenate\u001b[49m\u001b[43m(\u001b[49m\u001b[43m(\u001b[49m\u001b[43marr\u001b[49m\u001b[43m,\u001b[49m\u001b[43m \u001b[49m\u001b[43mvalues\u001b[49m\u001b[43m)\u001b[49m\u001b[43m,\u001b[49m\u001b[43m \u001b[49m\u001b[43maxis\u001b[49m\u001b[38;5;241;43m=\u001b[39;49m\u001b[43maxis\u001b[49m\u001b[43m)\u001b[49m\n",
      "\u001b[1;31mValueError\u001b[0m: all the input array dimensions except for the concatenation axis must match exactly, but along dimension 0, the array at index 0 has size 12 and the array at index 1 has size 1"
     ]
    }
   ],
   "source": [
    "forecast =make_Forecast_LSTM(model, x_test, x_test.shape[1], x_test.shape[2], scaler_fit, 12)"
   ]
  },
  {
   "cell_type": "code",
   "execution_count": 54,
   "metadata": {},
   "outputs": [
    {
     "data": {
      "text/plain": [
       "12"
      ]
     },
     "execution_count": 54,
     "metadata": {},
     "output_type": "execute_result"
    }
   ],
   "source": [
    "x_test.shape[1]"
   ]
  },
  {
   "cell_type": "code",
   "execution_count": null,
   "metadata": {},
   "outputs": [],
   "source": []
  },
  {
   "cell_type": "code",
   "execution_count": null,
   "metadata": {},
   "outputs": [],
   "source": []
  },
  {
   "cell_type": "code",
   "execution_count": null,
   "metadata": {},
   "outputs": [],
   "source": []
  }
 ],
 "metadata": {
  "kernelspec": {
   "display_name": "venv",
   "language": "python",
   "name": "python3"
  },
  "language_info": {
   "codemirror_mode": {
    "name": "ipython",
    "version": 3
   },
   "file_extension": ".py",
   "mimetype": "text/x-python",
   "name": "python",
   "nbconvert_exporter": "python",
   "pygments_lexer": "ipython3",
   "version": "3.11.5"
  }
 },
 "nbformat": 4,
 "nbformat_minor": 2
}
