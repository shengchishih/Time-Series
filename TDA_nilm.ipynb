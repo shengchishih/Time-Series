{
  "cells": [
    {
      "cell_type": "markdown",
      "metadata": {
        "colab_type": "text",
        "id": "view-in-github"
      },
      "source": [
        "<a href=\"https://colab.research.google.com/github/ShengChi-energytrack/Time-Series/blob/main/TDA_nilm.ipynb\" target=\"_parent\"><img src=\"https://colab.research.google.com/assets/colab-badge.svg\" alt=\"Open In Colab\"/></a>"
      ]
    },
    {
      "cell_type": "code",
      "execution_count": 1,
      "metadata": {
        "id": "8b0mG23RQaR_"
      },
      "outputs": [],
      "source": [
        "import numpy as np\n",
        "import pandas as pd\n",
        "import matplotlib.pyplot as plt\n"
      ]
    },
    {
      "cell_type": "code",
      "execution_count": 3,
      "metadata": {
        "colab": {
          "base_uri": "https://localhost:8080/"
        },
        "id": "5gtrSLobN6jb",
        "outputId": "35d631b9-3350-4f7c-ddad-105d73ad1ce7"
      },
      "outputs": [
        {
          "name": "stdout",
          "output_type": "stream",
          "text": [
            "Collecting gudhi\n",
            "  Downloading gudhi-3.10.1-cp311-cp311-manylinux_2_17_x86_64.manylinux2014_x86_64.whl.metadata (1.6 kB)\n",
            "Requirement already satisfied: numpy>=1.15.0 in /usr/local/lib/python3.11/dist-packages (from gudhi) (1.26.4)\n",
            "Downloading gudhi-3.10.1-cp311-cp311-manylinux_2_17_x86_64.manylinux2014_x86_64.whl (3.3 MB)\n",
            "\u001b[2K   \u001b[90m━━━━━━━━━━━━━━━━━━━━━━━━━━━━━━━━━━━━━━━━\u001b[0m \u001b[32m3.3/3.3 MB\u001b[0m \u001b[31m23.6 MB/s\u001b[0m eta \u001b[36m0:00:00\u001b[0m\n",
            "\u001b[?25hInstalling collected packages: gudhi\n",
            "Successfully installed gudhi-3.10.1\n"
          ]
        }
      ],
      "source": [
        "!pip install gudhi"
      ]
    },
    {
      "cell_type": "code",
      "execution_count": 4,
      "metadata": {
        "id": "w4YV0p_nN0KN"
      },
      "outputs": [],
      "source": [
        "import gudhi as gd"
      ]
    },
    {
      "cell_type": "code",
      "execution_count": 5,
      "metadata": {
        "colab": {
          "base_uri": "https://localhost:8080/"
        },
        "id": "wjQKF4VXOX8B",
        "outputId": "3d6449be-34cc-4c1a-c96d-931d04e7615f"
      },
      "outputs": [
        {
          "name": "stdout",
          "output_type": "stream",
          "text": [
            "dimension= 2\n"
          ]
        }
      ],
      "source": [
        "st = gd.SimplexTree()\n",
        "st.insert([0,1,8])\n",
        "st.insert([0,3,8])\n",
        "st.insert([3,7,8])\n",
        "st.insert([3,4,7])\n",
        "st.insert([1,4,7])\n",
        "st.insert([0,1,4])\n",
        "st.insert([1,2,5])\n",
        "st.insert([1,5,8])\n",
        "st.insert([5,6,8])\n",
        "st.insert([6,7,8])\n",
        "st.insert([2,6,7])\n",
        "st.insert([1,2,7])\n",
        "st.insert([0,2,3])\n",
        "st.insert([2,3,5])\n",
        "st.insert([3,4,5])\n",
        "st.insert([4,5,6])\n",
        "st.insert([0,4,6])\n",
        "st.insert([0,2,6])\n",
        "\n",
        "print(\"dimension=\", st.dimension())\n"
      ]
    },
    {
      "cell_type": "code",
      "execution_count": 6,
      "metadata": {
        "colab": {
          "base_uri": "https://localhost:8080/"
        },
        "id": "5uk0lUUROcXR",
        "outputId": "e9761ec6-3a8e-4780-8abf-16d0d649aec3"
      },
      "outputs": [
        {
          "name": "stdout",
          "output_type": "stream",
          "text": [
            "num_simplices= 54\n",
            "num_vertices= 9\n",
            "0-simplices  9\n",
            "1-simplices 27\n",
            "2-simplices 18\n"
          ]
        }
      ],
      "source": [
        "print(\"num_simplices=\", st.num_simplices())\n",
        "print(\"num_vertices=\", st.num_vertices())\n",
        "len( list(st.get_skeleton(0)) )\n",
        "\n",
        "print(\"0-simplices \", len(list(st.get_skeleton(0))) )\n",
        "print(\"1-simplices\", len(list(st.get_skeleton(1))) - len(list(st.get_skeleton(0))) )\n",
        "print(\"2-simplices\", len(list(st.get_skeleton(2))) - len(list(st.get_skeleton(1))) )"
      ]
    },
    {
      "cell_type": "code",
      "execution_count": 7,
      "metadata": {
        "colab": {
          "base_uri": "https://localhost:8080/"
        },
        "id": "BPIlvVqMOfi9",
        "outputId": "bfef7676-426b-4ff0-b14e-3d017d8a9c97"
      },
      "outputs": [
        {
          "data": {
            "text/plain": [
              "[1, 2, 1]"
            ]
          },
          "execution_count": 7,
          "metadata": {},
          "output_type": "execute_result"
        }
      ],
      "source": [
        "#This is for Betti numbers computations:\n",
        "st.persistence(persistence_dim_max=True)\n",
        "st.betti_numbers()"
      ]
    }
  ],
  "metadata": {
    "colab": {
      "include_colab_link": true,
      "provenance": []
    },
    "kernelspec": {
      "display_name": "Python 3",
      "name": "python3"
    },
    "language_info": {
      "name": "python"
    }
  },
  "nbformat": 4,
  "nbformat_minor": 0
}
